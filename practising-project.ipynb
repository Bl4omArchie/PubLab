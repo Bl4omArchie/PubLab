{
 "cells": [
  {
   "cell_type": "markdown",
   "metadata": {},
   "source": [
    "# Practical Project: a fully working RSA cryptosystem\n",
    "\n",
    "One of my favorite cryptographic system is RSA because of prime number which I found so interesting ! I know about RSA since a long time ago now and this is the subject of this project: we are going to code from scratch a RSA cryptosystem !\n",
    "We aim to an educational project, so don't use this for real-life purpose. The code and the method we'll used are made such that one person can handle alone the project. I'll also suppose that you know how RSA work, so if not, go \n",
    "\n",
    "This notebook will exposed you how I processed and provide all the necessary and technical details with source-code and many more !\n",
    "\n",
    "\n",
    "What you need for the project is a computer with python3 on it and an internet connection !\n",
    "Also, even if I made this project in python, I will provide general details so that it can work with every langage.\n",
    "\n",
    "\n",
    "Here the first step: the brainstorming !\n",
    "\n",
    "\n",
    "## Brainstorming\n",
    "\n",
    "For a fully working RSA cryptosystem we need: a key-pair generator, a primitive function for encryption/decryption/signature, some arithmetic algorithm, an RNG and finnaly a primality test."
   ]
  }
 ],
 "metadata": {
  "kernelspec": {
   "display_name": "Python 3.8.10 64-bit",
   "language": "python",
   "name": "python3"
  },
  "language_info": {
   "codemirror_mode": {
    "name": "ipython",
    "version": 3
   },
   "file_extension": ".py",
   "mimetype": "text/x-python",
   "name": "python",
   "nbconvert_exporter": "python",
   "pygments_lexer": "ipython3",
   "version": "3.8.10"
  },
  "vscode": {
   "interpreter": {
    "hash": "e7370f93d1d0cde622a1f8e1c04877d8463912d04d973331ad4851f04de6915a"
   }
  }
 },
 "nbformat": 4,
 "nbformat_minor": 4
}
