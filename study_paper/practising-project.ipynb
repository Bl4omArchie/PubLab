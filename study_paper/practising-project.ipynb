{
 "cells": [
  {
   "cell_type": "markdown",
   "metadata": {},
   "source": [
    "# Paperwork\n",
    "\n",
    "This paper related all the work behind the creation of a working rsa keypair generator\n",
    "\n",
    "\n",
    "## RSA\n",
    "\n",
    "## Keypair Generator\n",
    "\n",
    "For generating a prime number randomdly, this is how we proceed:\n",
    "1) we pick-up a number randomly\n",
    "2) if the number is odd, we elevating it from one\n",
    "3) if the number if co-prime with e we made the miller-rabin test\n",
    "4) if the test conclude, we break out the loop and return true, else we continue util we find that number\n",
    "\n",
    "The main problem of our KPG its the how many time we pick up a random number to test. The more we are testing numbers, more it will take time to generate our keypair.\n",
    "The goal here is to find a method to have the most constant time for generating prime number, which mean picking a regular amounts of number to test."
   ]
  }
 ],
 "metadata": {
  "kernelspec": {
   "display_name": "Python 3.10.6 64-bit",
   "language": "python",
   "name": "python3"
  },
  "language_info": {
   "codemirror_mode": {
    "name": "ipython",
    "version": 3
   },
   "file_extension": ".py",
   "mimetype": "text/x-python",
   "name": "python",
   "nbconvert_exporter": "python",
   "pygments_lexer": "ipython3",
   "version": "3.10.6"
  },
  "vscode": {
   "interpreter": {
    "hash": "916dbcbb3f70747c44a77c7bcd40155683ae19c65e1c03b4aa3499c5328201f1"
   }
  }
 },
 "nbformat": 4,
 "nbformat_minor": 4
}
