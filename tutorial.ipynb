{
 "cells": [
  {
   "cell_type": "markdown",
   "id": "b5d7c423",
   "metadata": {},
   "source": [
    "# Tutorial: handle the pubcrypt project\n",
    "\n",
    "Simple tutorial to manipulate the pubcrypt project. We're giving you an overview of the all project.\n",
    "\n",
    "First, what is the purpose of the project ? Pubcrypt is like my laboratory for the RSA cryptosystem, I'm looking at efficent way to implement it in python and later in C.\n",
    "For now, I only have implemented a keypair generator but I'm also planning to implement pkcs and oaep scheme. I'm doing this while learning.\n",
    "\n",
    "\n",
    "## Summary\n",
    "You have many files and folders so there is a summary:\n",
    "\n",
    "``` \n",
    "| pubcrypt: the main python module\n",
    "| study_paper: where you can find all the PDF I used for my project and the notebook I've made to explain how I proceed for my module\n",
    "| statistic: a python module to make graph about the efficency of pubcrypt with matplotlib\n",
    "README: a simple recap of all the pubcrypt's function, my sources and my social media\n",
    "example.py: it is like an application where you can handle more easily my two modules\n",
    "tutorial.ipynb: where you are actually !\n",
    "``` \n",
    "\n",
    "\n",
    "## Pubcrypt\n",
    "\n",
    "If you want to generate a keypair, recover your primes factor from the public and private key, encrypt/decrypt a message, everything is available in the rsa.py file.\n",
    "Use the function from example.py or import directly the module from your code:"
   ]
  },
  {
   "cell_type": "code",
   "execution_count": 11,
   "id": "6b027fd3",
   "metadata": {},
   "outputs": [
    {
     "name": "stdout",
     "output_type": "stream",
     "text": [
      "N=15057607762541187706770895362108128970673791090659302076792909933484139455526565216813237940048070656582524922040242986629162563317902559770967509953953026762763490144640361355333161578904771281132024506878342877001691173819422175213509422339507330686823462985472116399201852303323699166345662862680782910703389641656601759707950290325276318185941664806679779022428213399044341425114867708576318454672133702529692388430783655243379930187336874605124071228983602885360531563329729599973055770946816716308465332184690087525278434083630393425320610004198334564466039704932586549489152283893077783334861264589886753804097\n",
      "e=65537\n",
      "d=1828523908298885245957797438688642208418257875627692075898444751905542271645149599127335003827953222155607131727989895922733574319323855561549123822703742366776831962343719057119168811903407574971225674626413961374764777253183261080560824231944841711873972415122447447442634566061944547589330574982757996167523190678577677902984889098620256964398996488481261832555740133233328570405909720475741658547564659000470387620727693129792911557751198845481794057955432313584322025409891224898677356037074070991217153046285457383988057479735618466931459081155282930759073810419249317518306124253061914180029227504069468070243\n",
      "\n",
      "p = 132668179018635639464975147010119723632591504363043030552059870238105984832372848104198391438887001790214493113248116495302517333804954922622390078745445812533165943547262530522246111923672162138720709443050571434295932441552288055807340461431081681768565274423907467369856203378160038362271124007893421734067\n",
      "q = 113498262159956797275831373997079824900386632014988587188644436425428187823852484293357598418049734362167121490855784441708367837468551116020517969208419366554109028805770304208035532918762649218887230118103671324452964285863589133126132041771615836374999050293017522504138894465672451309641659972054181612091\n",
      "\n",
      "My message is: b'my super secret message'\n"
     ]
    }
   ],
   "source": [
    "from pubcrypt.number.util import int_to_bytes\n",
    "from pubcrypt import rsa\n",
    "\n",
    "#Here I'm generating a 2048 bit key, the default public exponent is 65537. The function return you public and private key: (n, e), d\n",
    "n, e, d = rsa.generate(2048)\n",
    "print (f\"N={n}\")\n",
    "print (f\"e={e}\")\n",
    "print (f\"d={d}\\n\")\n",
    "\n",
    "\n",
    "#You also can recover your prime factors\n",
    "p, q = rsa.prime_recovery(n, e, d)\n",
    "print (f\"p = {p}\")\n",
    "print (f\"q = {q}\\n\")\n",
    "\n",
    "\n",
    "#And also use the primitive_exp function which allow you to perform encryption:\n",
    "c = rsa.primitive_exp(10485444774072141414467428867414474974390185603861931877, e, n)\n",
    "\n",
    "#And of course, decryption:\n",
    "m = rsa.primitive_exp(c, d, n)\n",
    "\n",
    "print (f\"My message is: {int_to_bytes(m)}\")"
   ]
  },
  {
   "cell_type": "markdown",
   "id": "bda8f5f5",
   "metadata": {},
   "source": [
    "## Statistic\n",
    "\n",
    "In pubcrypt, I'm mainly using oriented object programmation because it is more easy to manipulate data. With my prime number generator, I can easily take all the variables necessary for the process and make graph with it for some evaluation. For example, I know how many number the generator had to test before finding a prime number.\n",
    "So the point of this module is to use those object and make some graph with matplotlib so I can evaluate the efficency of my algorithms.\n",
    "There is some examples: "
   ]
  },
  {
   "cell_type": "code",
   "execution_count": 1,
   "id": "1d876bdb",
   "metadata": {},
   "outputs": [
    {
     "data": {
      "image/png": "[encoded data removed]",
      "text/plain": [
       "<Figure size 432x288 with 1 Axes>"
      ]
     },
     "metadata": {
      "needs_background": "light"
     },
     "output_type": "display_data"
    }
   ],
   "source": [
    "from statistic.evGeneration import * \n",
    "\n",
    "#Here I'm evaluating how many numbers I need to pick for generating 10 prime numbers with a 1024 bits size. \n",
    "#Note: as you can see, the actual algorithm isn't efficient, it isn't taking a regular amount of numbers. Instead It can go from less than 200 numbers to more than 900.\n",
    "prime_number_evaluation(10, 1024)\n",
    "\n",
    "#It measure the time it take to generate a prime number in function of the numbers the algorithm had to test\n",
    "prime_number_evaluation_with_time(10, 1024)"
   ]
  }
 ],
 "metadata": {
  "kernelspec": {
   "display_name": "Python 3.10.6 64-bit",
   "language": "python",
   "name": "python3"
  },
  "language_info": {
   "codemirror_mode": {
    "name": "ipython",
    "version": 3
   },
   "file_extension": ".py",
   "mimetype": "text/x-python",
   "name": "python",
   "nbconvert_exporter": "python",
   "pygments_lexer": "ipython3",
   "version": "3.10.6"
  },
  "vscode": {
   "interpreter": {
    "hash": "916dbcbb3f70747c44a77c7bcd40155683ae19c65e1c03b4aa3499c5328201f1"
   }
  }
 },
 "nbformat": 4,
 "nbformat_minor": 5
}
